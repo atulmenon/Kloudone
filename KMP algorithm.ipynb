{
 "cells": [
  {
   "cell_type": "code",
   "execution_count": 1,
   "metadata": {},
   "outputs": [
    {
     "data": {
      "text/plain": [
       "[0, 0, 1, 2, 0, 1, 2, 3, 4]"
      ]
     },
     "execution_count": 1,
     "metadata": {},
     "output_type": "execute_result"
    }
   ],
   "source": [
    "pattern= 'ABABCABAB'\n",
    "text = 'ABABDABACDABABCABAB'\n",
    "M = len(pattern)\n",
    "def get_pattern(pattern, b):\n",
    "    prefix_arr = [0] * b\n",
    "    n = 0\n",
    "    m = 1\n",
    "    while m != b:\n",
    "        if pattern[m] == pattern[n]:\n",
    "            n += 1\n",
    "            prefix_arr[m] = n\n",
    "            m += 1\n",
    "        elif n != 0:\n",
    "                n = prefix_arr[n-1]\n",
    "        else:\n",
    "            prefix_arr[m] = 0\n",
    "            m += 1\n",
    "    return prefix_arr\n",
    "get_pattern(pattern,M)"
   ]
  },
  {
   "cell_type": "code",
   "execution_count": 3,
   "metadata": {},
   "outputs": [
    {
     "data": {
      "text/plain": [
       "[10]"
      ]
     },
     "execution_count": 3,
     "metadata": {},
     "output_type": "execute_result"
    }
   ],
   "source": [
    "def KMP(pattern, text):\n",
    "    a = len(text)\n",
    "    b = len(pattern)\n",
    "    arr = get_pattern(pattern, b)\n",
    "  \n",
    "    initial_point = []\n",
    "    m = 0\n",
    "    n = 0\n",
    "  \n",
    "    while m != a:\n",
    "       \n",
    "        if text[m] == pattern[n]:\n",
    "            m += 1\n",
    "            n += 1\n",
    "      \n",
    "        else:\n",
    "            n = arr[n-1]\n",
    "       \n",
    "        if n == b:\n",
    "            initial_point.append(m-n)\n",
    "            n = arr[n-1]\n",
    "        elif n == 0:\n",
    "            m += 1\n",
    "   \n",
    "    return initial_point\n",
    "KMP(pattern,text)"
   ]
  }
 ],
 "metadata": {
  "kernelspec": {
   "display_name": "Python 3",
   "language": "python",
   "name": "python3"
  },
  "language_info": {
   "codemirror_mode": {
    "name": "ipython",
    "version": 3
   },
   "file_extension": ".py",
   "mimetype": "text/x-python",
   "name": "python",
   "nbconvert_exporter": "python",
   "pygments_lexer": "ipython3",
   "version": "3.7.6"
  }
 },
 "nbformat": 4,
 "nbformat_minor": 4
}
