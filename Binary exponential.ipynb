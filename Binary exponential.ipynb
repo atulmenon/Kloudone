{
 "cells": [
  {
   "cell_type": "markdown",
   "metadata": {},
   "source": [
    "## 1st method"
   ]
  },
  {
   "cell_type": "code",
   "execution_count": 1,
   "metadata": {},
   "outputs": [
    {
     "data": {
      "text/plain": [
       "10000"
      ]
     },
     "execution_count": 1,
     "metadata": {},
     "output_type": "execute_result"
    }
   ],
   "source": [
    "def exponential(x,n):\n",
    "    binary = bin(n)\n",
    "    binary_list = list(binary)\n",
    "    binary_list = binary_list[2:]\n",
    "    final_ans =1\n",
    "    binary_rev = binary_list[::-1]\n",
    "    for i in range(len(binary_rev)):\n",
    "        ans = x**(2** (i) *int(binary_rev[i]))\n",
    "        final_ans = ans * final_ans\n",
    "    return final_ans\n",
    "exponential(10,4)"
   ]
  },
  {
   "cell_type": "markdown",
   "metadata": {},
   "source": [
    "## 2nd Method"
   ]
  },
  {
   "cell_type": "code",
   "execution_count": 3,
   "metadata": {},
   "outputs": [
    {
     "data": {
      "text/plain": [
       "81"
      ]
     },
     "execution_count": 3,
     "metadata": {},
     "output_type": "execute_result"
    }
   ],
   "source": [
    "def binary_convert (n):\n",
    "    pv=1\n",
    "    ans =0\n",
    "    if n==0:\n",
    "        return 0\n",
    "    else:\n",
    "        ans=n%2 +10*binary_convert(n//2)\n",
    "        return ans\n",
    "    \n",
    "    \n",
    "def exponential1(x,n):\n",
    "    final_ans =1\n",
    "    binary_rev = list(str(binary_convert(n)))[::-1]\n",
    "    for i in range(len(binary_rev)):\n",
    "        ans = x**(2** (i) *int(binary_rev[i]))\n",
    "        final_ans = ans * final_ans\n",
    "    return final_ans\n",
    "exponential1(3,4)"
   ]
  }
 ],
 "metadata": {
  "kernelspec": {
   "display_name": "Python 3",
   "language": "python",
   "name": "python3"
  },
  "language_info": {
   "codemirror_mode": {
    "name": "ipython",
    "version": 3
   },
   "file_extension": ".py",
   "mimetype": "text/x-python",
   "name": "python",
   "nbconvert_exporter": "python",
   "pygments_lexer": "ipython3",
   "version": "3.7.7"
  }
 },
 "nbformat": 4,
 "nbformat_minor": 4
}
